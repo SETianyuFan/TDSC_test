{
 "cells": [
  {
   "cell_type": "code",
   "execution_count": 4,
   "id": "bc2b0569",
   "metadata": {},
   "outputs": [],
   "source": [
    "# 对一张3d图片进行测试\n",
    "\n",
    "import SimpleITK as sitk\n",
    "import os\n",
    "\n",
    "image = sitk.ReadImage('/home/tianyu/Desktop/data_base/Init_data/MASK/MASK_000.nrrd')\n",
    "nda = sitk.GetArrayFromImage(image)\n",
    "\n",
    "z_dim, y_dim, x_dim = nda.shape\n",
    "\n",
    "output_dir = 'output_slices_mask'\n",
    "if not os.path.exists(output_dir):\n",
    "    os.mkdir(output_dir)\n",
    "\n",
    "for i in range(z_dim):\n",
    "    slice_2d = nda[i, :, :]\n",
    "    \n",
    "    slice_2d_image = sitk.GetImageFromArray(slice_2d)\n",
    "    \n",
    "    sitk.WriteImage(slice_2d_image, os.path.join(output_dir, 'slice_{:03d}.nrrd'.format(i)))"
   ]
  },
  {
   "cell_type": "code",
   "execution_count": 12,
   "id": "fe1901b7",
   "metadata": {},
   "outputs": [
    {
     "data": {
      "image/png": "[encoded data removed]",
      "text/plain": [
       "<Figure size 640x480 with 1 Axes>"
      ]
     },
     "metadata": {},
     "output_type": "display_data"
    }
   ],
   "source": [
    "# 展示一张图片的结果\n",
    "\n",
    "import SimpleITK as sitk\n",
    "\n",
    "image_2d = sitk.ReadImage('output_slices_mask/slice_250.nrrd')\n",
    "\n",
    "nda_2d = sitk.GetArrayFromImage(image_2d)\n",
    "\n",
    "import matplotlib.pyplot as plt\n",
    "\n",
    "plt.imshow(nda_2d, cmap='gray')\n",
    "plt.show()\n",
    "\n"
   ]
  },
  {
   "cell_type": "code",
   "execution_count": 3,
   "id": "50588919",
   "metadata": {},
   "outputs": [],
   "source": [
    "# 对一个方向，拆分成一组slice\n",
    "\n",
    "import SimpleITK as sitk\n",
    "import os\n",
    "import numpy as np\n",
    "\n",
    "def save_slices(nda, base_filename, output_dir):\n",
    "\n",
    "    z_dim, y_dim, x_dim = nda.shape\n",
    "\n",
    "    if not os.path.exists(output_dir):\n",
    "        os.mkdir(output_dir)\n",
    "\n",
    "    for i in range(z_dim):\n",
    "        slice_2d = nda[i, :, :]\n",
    "        \n",
    "        slice_2d_image = sitk.GetImageFromArray(slice_2d)\n",
    "        \n",
    "        filename = os.path.join(output_dir, '{}_{:03d}.nrrd'.format(base_filename, i))\n",
    "        \n",
    "        sitk.WriteImage(slice_2d_image, filename)\n"
   ]
  },
  {
   "cell_type": "code",
   "execution_count": 8,
   "id": "e0f9e6ab",
   "metadata": {},
   "outputs": [],
   "source": [
    "image_dir = '/home/tianyu/Desktop/data_base/Init_data/DATA'\n",
    "mask_dir = '/home/tianyu/Desktop/data_base/Init_data/MASK'\n",
    "output_image_dir = '/media/tianyu/fanty/output_slices/xy/DATA'\n",
    "output_mask_dir = '/media/tianyu/fanty/output_slices/xy/MASK'\n",
    "\n",
    "image_filenames = os.listdir(image_dir)\n",
    "\n",
    "for image_filename in image_filenames:\n",
    "\n",
    "    if not image_filename.endswith('.nrrd'):\n",
    "        continue\n",
    "        \n",
    "    \n",
    "    \n",
    "    data_filename = os.path.splitext(image_filename)[0]\n",
    "    mask_filename = data_filename.replace(\"DATA\", \"MASK\", 1)\n",
    "    \n",
    "    image = sitk.ReadImage(os.path.join(image_dir, image_filename))\n",
    "    image_filename = image_filename.replace(\"DATA\", \"MASK\", 1)\n",
    "    mask = sitk.ReadImage(os.path.join(mask_dir, image_filename))\n",
    "    \n",
    "    nda_image = sitk.GetArrayFromImage(image)\n",
    "    nda_mask = sitk.GetArrayFromImage(mask)\n",
    "    \n",
    "    save_slices(nda_image, data_filename, output_image_dir)\n",
    "    save_slices(nda_mask, mask_filename, output_mask_dir)"
   ]
  },
  {
   "cell_type": "code",
   "execution_count": 18,
   "id": "cbb8205a",
   "metadata": {},
   "outputs": [
    {
     "data": {
      "image/png": "[encoded data removed]",
      "text/plain": [
       "<Figure size 640x480 with 1 Axes>"
      ]
     },
     "metadata": {},
     "output_type": "display_data"
    },
    {
     "name": "stdout",
     "output_type": "stream",
     "text": [
      "Shape 1: [(0.4185, 0.2368), (0.4069, 0.2961), (0.3861, 0.3438), (0.3896, 0.352), (0.4035, 0.3536), (0.4231, 0.3684), (0.4081, 0.3931), (0.4081, 0.4062), (0.4162, 0.4095), (0.4277, 0.4013), (0.4393, 0.3421), (0.4347, 0.3141), (0.415, 0.2895), (0.4231, 0.2714)]\n",
      "Shape 2: [(0.4717, 0.2089), (0.4647, 0.2105), (0.452, 0.2253), (0.4636, 0.25), (0.4705, 0.2533), (0.4809, 0.25), (0.4844, 0.2401), (0.4844, 0.2286), (0.4809, 0.2188)]\n"
     ]
    }
   ],
   "source": [
    "# 对一张图片进行获取边界点测试\n",
    "\n",
    "import cv2\n",
    "import numpy as np\n",
    "import SimpleITK as sitk\n",
    "import matplotlib.pyplot as plt\n",
    "\n",
    "mask_image = sitk.ReadImage('output_slices_mask/slice_262.nrrd')\n",
    "mask = sitk.GetArrayFromImage(mask_image)\n",
    "\n",
    "mask = (mask * 255).astype(np.uint8)\n",
    "\n",
    "mask_3channel = cv2.cvtColor(mask, cv2.COLOR_GRAY2BGR)\n",
    "\n",
    "contours, _ = cv2.findContours(mask, cv2.RETR_EXTERNAL, cv2.CHAIN_APPROX_SIMPLE)\n",
    "\n",
    "shapes = []\n",
    "\n",
    "height, width = mask.shape\n",
    "\n",
    "for i, contour in enumerate(contours):\n",
    "    epsilon = 0.01 * cv2.arcLength(contour, True)\n",
    "    approx = cv2.approxPolyDP(contour, epsilon, True)\n",
    "    \n",
    "    vertices = []\n",
    "    for point in approx:\n",
    "        normalized_point = (round(point[0][0] / width, 4), round(point[0][1] / height, 4))\n",
    "        vertices.append(normalized_point)\n",
    "    \n",
    "    shapes.append(vertices)\n",
    "    \n",
    "    color = ((i+1)*50 % 256, (i+1)*100 % 256, (i+1)*150 % 256)\n",
    "    \n",
    "    cv2.polylines(mask_3channel, [approx], True, color, 2)\n",
    "    \n",
    "    for point in approx:\n",
    "        cv2.circle(mask_3channel, tuple(point[0]), 3, color, -1)\n",
    "\n",
    "plt.imshow(cv2.cvtColor(mask_3channel, cv2.COLOR_BGR2RGB))\n",
    "plt.show()\n",
    "\n",
    "for i, shape in enumerate(shapes):\n",
    "    print(f'Shape {i+1}: {shape}')\n",
    "\n"
   ]
  },
  {
   "cell_type": "code",
   "execution_count": 2,
   "id": "8ca050ad",
   "metadata": {},
   "outputs": [],
   "source": [
    "# 对一组3dmask图像 提取边界节点以及label 生成yolotxt格式\n",
    "\n",
    "import os\n",
    "import cv2\n",
    "import numpy as np\n",
    "import SimpleITK as sitk\n",
    "import pandas as pd\n",
    "\n",
    "df = pd.read_csv('/home/tianyu/Desktop/data_base/labels.csv')\n",
    "mask_dir = '/home/tianyu/Desktop/data_base/Init_data/MASK'\n",
    "save_dir = '/media/tianyu/fanty/output_slices/xy/LABEL'\n",
    "\n",
    "\n",
    "index = 0\n",
    "\n",
    "if not os.path.exists(save_dir):\n",
    "    os.makedirs(save_dir)\n",
    "\n",
    "for filename in sorted(os.listdir(mask_dir)):\n",
    "    if filename.endswith('.nrrd'):\n",
    "        mask_image = sitk.ReadImage(os.path.join(mask_dir, filename))\n",
    "        mask_3d = sitk.GetArrayFromImage(mask_image)\n",
    "\n",
    "        class_label = df.loc[index, 'label']\n",
    "        class_index = 1 if class_label == 'M' else 0\n",
    "\n",
    "        for i in range(mask_3d.shape[0]):\n",
    "            mask = mask_3d[i, :, :]\n",
    "\n",
    "            mask = (mask * 255).astype(np.uint8)\n",
    "\n",
    "            contours, _ = cv2.findContours(mask, cv2.RETR_EXTERNAL, cv2.CHAIN_APPROX_SIMPLE)\n",
    "\n",
    "            height, width = mask.shape\n",
    "\n",
    "            with open(os.path.join(save_dir, f'{filename[:-5]}_{i}.txt'), 'w') as f:\n",
    "                for contour in contours:\n",
    "                    epsilon = 0.01 * cv2.arcLength(contour, True)\n",
    "                    approx = cv2.approxPolyDP(contour, epsilon, True)\n",
    "\n",
    "                    if len(approx) > 0:  \n",
    "                        f.write(str(class_index))  \n",
    "                        for point in approx:\n",
    "                            normalized_point = (round(point[0][0] / width, 4), round(point[0][1] / height, 4))\n",
    "                            f.write(f' {normalized_point[0]} {normalized_point[1]}')\n",
    "                        f.write('\\n')\n",
    "\n",
    "        index += 1\n"
   ]
  },
  {
   "cell_type": "code",
   "execution_count": null,
   "id": "0c6721bf",
   "metadata": {},
   "outputs": [],
   "source": []
  }
 ],
 "metadata": {
  "kernelspec": {
   "display_name": "Python [conda env:pyradiomics] *",
   "language": "python",
   "name": "conda-env-pyradiomics-py"
  },
  "language_info": {
   "codemirror_mode": {
    "name": "ipython",
    "version": 3
   },
   "file_extension": ".py",
   "mimetype": "text/x-python",
   "name": "python",
   "nbconvert_exporter": "python",
   "pygments_lexer": "ipython3",
   "version": "3.10.12"
  }
 },
 "nbformat": 4,
 "nbformat_minor": 5
}
