{
 "cells": [
  {
   "cell_type": "code",
   "execution_count": 2,
   "id": "cbeb946a",
   "metadata": {},
   "outputs": [
    {
     "name": "stdout",
     "output_type": "stream",
     "text": [
      "           0         1          2           3           4           5   \\\n",
      "0    0.324081  0.113919  25.257430  221.713679  114.437756  254.385534   \n",
      "1    0.891822  0.182954  11.288263   61.700028   61.073726   74.330344   \n",
      "2    0.720290  0.183258  34.497578  188.245972  178.474088  267.226496   \n",
      "3    0.456011  0.197963  36.007521  181.890080  114.354711  213.114992   \n",
      "4    0.470130  0.136238  11.214203   82.313115   50.159745   91.005494   \n",
      "..        ...       ...        ...         ...         ...         ...   \n",
      "124  0.882767  0.241570  41.884166  173.383039  297.544955  212.150890   \n",
      "125  0.434268  0.222052  40.629555  182.973112  155.012903  140.292551   \n",
      "126  0.728373  0.234325  59.607648  254.380739  374.833296  216.187419   \n",
      "127  0.923890  0.250879  53.087549  211.606485  346.255686  232.137890   \n",
      "128  0.285109  0.063644  29.698362  466.631411  236.304888  124.679589   \n",
      "\n",
      "             6           7              8           9   ...             90  \\\n",
      "0    227.002203  257.841036  240990.958333   71.853275  ...   63643.622391   \n",
      "1     76.059187   84.386018   21055.583333   55.025449  ...   10451.597139   \n",
      "2    236.027541  267.378010  514978.041667  135.591649  ...  181798.797142   \n",
      "3    213.037555  224.879968  356036.875000   82.943896  ...  105909.772505   \n",
      "4     91.021975   92.027170   21881.666667   38.697874  ...    7976.190827   \n",
      "..          ...         ...            ...         ...  ...            ...   \n",
      "124  319.788993  335.667991  325165.916667  153.056835  ...  108284.067202   \n",
      "125  177.792013  327.636994   74159.791667   79.459396  ...   30290.331944   \n",
      "126  297.733102  379.639302  587162.833333  185.284174  ...  155723.897401   \n",
      "127  242.637590  361.222923  624815.291667  195.501108  ...  226544.750218   \n",
      "128  352.029828  352.031249   60754.875000  133.040739  ...   23338.312357   \n",
      "\n",
      "           91         92          93           94          95        96  \\\n",
      "0    1.372610   9.675509  272.384056  2036.111340   70.317967  0.213008   \n",
      "1    0.388782   6.292574  317.231717  1528.953732   72.489963  0.198064   \n",
      "2    0.793288  13.500740  316.198558  3705.150430   31.462178  0.093944   \n",
      "3    1.212655   8.603195  295.309807  1906.543115   73.848166  0.226567   \n",
      "4    1.004466   7.801711  274.192374  1510.303485   62.775739  0.216664   \n",
      "..        ...        ...         ...          ...         ...       ...   \n",
      "124  0.895092  11.014224  336.556278  3045.293090   47.328942  0.127006   \n",
      "125  0.490529   4.158788  313.231475  1060.257900  150.400332  0.430403   \n",
      "126  1.189175   8.683450  226.421603  1586.301032   66.375876  0.247943   \n",
      "127  0.673145   6.824586  367.562269  2131.106472   95.518572  0.241145   \n",
      "128  0.567823   8.811931  317.190233  2336.565192   52.750679  0.148372   \n",
      "\n",
      "           97        98        99  \n",
      "0    0.014738  0.243159  0.002732  \n",
      "1    0.016053  0.175396  0.002566  \n",
      "2    0.011251  0.220330  0.000962  \n",
      "3    0.013118  0.207655  0.002753  \n",
      "4    0.018331  0.278382  0.003960  \n",
      "..        ...       ...       ...  \n",
      "124  0.009816  0.167752  0.001010  \n",
      "125  0.011306  0.086114  0.003591  \n",
      "126  0.015495  0.197860  0.003564  \n",
      "127  0.009640  0.088668  0.002785  \n",
      "128  0.013801  0.194375  0.001691  \n",
      "\n",
      "[129 rows x 100 columns]\n"
     ]
    }
   ],
   "source": [
    "import pandas as pd\n",
    "\n",
    "# Load the CSV data into a DataFrame\n",
    "df = pd.read_csv('feature_data3.csv')\n",
    "\n",
    "# Convert the DataFrame to a NumPy array (matrix)\n",
    "df_data = df.values\n",
    "\n",
    "df_data = pd.DataFrame(df_data)\n",
    "\n",
    "print(df_data)"
   ]
  },
  {
   "cell_type": "code",
   "execution_count": 3,
   "id": "fdc6479e",
   "metadata": {},
   "outputs": [
    {
     "name": "stdout",
     "output_type": "stream",
     "text": [
      "[1, 0, 1, 1, 0, 0, 1, 0, 1, 1, 1, 0, 1, 0, 0, 1, 1, 0, 0, 1, 1, 1, 1, 1, 1, 0, 0, 0, 1, 1, 1, 0, 1, 1, 1, 1, 1, 1, 1, 0, 1, 0, 0, 0, 1, 1, 0, 1, 0, 0, 0, 0, 0, 0, 1, 0, 1, 0, 1, 1, 1, 0, 0, 1, 0, 0, 1, 1, 1, 1, 1, 0, 1, 0, 0, 1, 1, 1, 0, 0, 1, 1, 0, 0, 0, 1, 1, 1, 1, 1, 1, 0, 1, 1, 1, 0, 0, 0, 1, 1]\n"
     ]
    }
   ],
   "source": [
    "# import csv of lable\n",
    "df = pd.read_csv('/home/tianyu/Desktop/data_base/labels.csv')\n",
    "\n",
    "df_label = df['label'].values\n",
    "df_label_num = []\n",
    "\n",
    "for item in df_label:\n",
    "    if item == 'M':\n",
    "        df_label_num.append(1)\n",
    "    else :\n",
    "        df_label_num.append(0)\n",
    "        \n",
    "print(df_label_num)"
   ]
  },
  {
   "cell_type": "code",
   "execution_count": 9,
   "id": "1ab8340e",
   "metadata": {},
   "outputs": [
    {
     "name": "stdout",
     "output_type": "stream",
     "text": [
      "     Feature Label\n",
      "0   0.014738     M\n",
      "1   0.016053     B\n",
      "2   0.011251     M\n",
      "3   0.013118     M\n",
      "4   0.018331     B\n",
      "..       ...   ...\n",
      "95  0.012188     B\n",
      "96  0.029332     B\n",
      "97  0.023180     B\n",
      "98  0.013109     M\n",
      "99  0.015415     M\n",
      "\n",
      "[100 rows x 2 columns]\n"
     ]
    }
   ],
   "source": [
    "\n",
    "data = df_data[97].iloc[0:100]\n",
    "\n",
    "df_new = pd.DataFrame({'Feature': data, 'Label': df_label})\n",
    "\n",
    "print(df_new)\n"
   ]
  },
  {
   "cell_type": "code",
   "execution_count": 10,
   "id": "e03af822",
   "metadata": {},
   "outputs": [
    {
     "data": {
      "image/png": "[encoded data removed]",
      "text/plain": [
       "<Figure size 640x480 with 1 Axes>"
      ]
     },
     "metadata": {},
     "output_type": "display_data"
    }
   ],
   "source": [
    "import seaborn as sns\n",
    "import matplotlib.pyplot as plt\n",
    "\n",
    "sns.boxplot(x='Label', y='Feature', data=df_new)\n",
    "plt.show()\n"
   ]
  },
  {
   "cell_type": "code",
   "execution_count": null,
   "id": "14497968",
   "metadata": {},
   "outputs": [],
   "source": []
  }
 ],
 "metadata": {
  "kernelspec": {
   "display_name": "Python [conda env:pyradiomics] *",
   "language": "python",
   "name": "conda-env-pyradiomics-py"
  },
  "language_info": {
   "codemirror_mode": {
    "name": "ipython",
    "version": 3
   },
   "file_extension": ".py",
   "mimetype": "text/x-python",
   "name": "python",
   "nbconvert_exporter": "python",
   "pygments_lexer": "ipython3",
   "version": "3.10.12"
  }
 },
 "nbformat": 4,
 "nbformat_minor": 5
}
